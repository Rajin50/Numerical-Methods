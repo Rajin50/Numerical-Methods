{
  "nbformat": 4,
  "nbformat_minor": 0,
  "metadata": {
    "colab": {
      "provenance": []
    },
    "kernelspec": {
      "name": "python3",
      "display_name": "Python 3"
    },
    "language_info": {
      "name": "python"
    }
  },
  "cells": [
    {
      "cell_type": "markdown",
      "source": [
        "#Introduction to Python"
      ],
      "metadata": {
        "id": "onlr4FOK2vlI"
      }
    },
    {
      "cell_type": "markdown",
      "source": [
        "# Variables and Data Types\n",
        "* Variables are dynammically typed. No need to write data type while declaring a variable."
      ],
      "metadata": {
        "id": "HrRcQURW3PZ3"
      }
    },
    {
      "cell_type": "code",
      "execution_count": null,
      "metadata": {
        "id": "cKhS2uyKQLfE"
      },
      "outputs": [],
      "source": [
        "#Declaring variables\n",
        "\n",
        "a = 123           #integer\n",
        "b = 1.23          #float\n",
        "c = 1 + 2j        #complex\n",
        "d = \"Hello World\" #string\n",
        "e = True          #boolean true\n",
        "f =  False        #boolean false"
      ]
    },
    {
      "cell_type": "code",
      "source": [
        "#Printing the variables\n",
        "\n",
        "print (a)\n",
        "print (b)\n",
        "print (c)         #Bracket for complex number\n",
        "print (d)\n",
        "print (e)"
      ],
      "metadata": {
        "colab": {
          "base_uri": "https://localhost:8080/"
        },
        "id": "Jdj-qQJd4mMr",
        "outputId": "75051c0a-5e3b-401b-b9f4-b03625832ccf"
      },
      "execution_count": null,
      "outputs": [
        {
          "output_type": "stream",
          "name": "stdout",
          "text": [
            "123\n",
            "1.23\n",
            "(1+2j)\n",
            "Hello World\n",
            "True\n"
          ]
        }
      ]
    },
    {
      "cell_type": "code",
      "source": [
        "#Checking types\n",
        "\n",
        "type(c)"
      ],
      "metadata": {
        "colab": {
          "base_uri": "https://localhost:8080/"
        },
        "id": "jV1nmQWM4zNZ",
        "outputId": "b52f1ecb-0f2d-4b03-fa74-d72e2207da66"
      },
      "execution_count": null,
      "outputs": [
        {
          "output_type": "execute_result",
          "data": {
            "text/plain": [
              "complex"
            ]
          },
          "metadata": {},
          "execution_count": 4
        }
      ]
    },
    {
      "cell_type": "code",
      "source": [
        "#Basic arithmetic operations\n",
        "\n",
        "print (5 + 2)\n",
        "print (5 - 2)\n",
        "print (5 * 2)\n",
        "print (5 / 2)\n",
        "print (5 % 2)     #Mod operator. Returns remainder\n",
        "print (2 ** 4)    #Power"
      ],
      "metadata": {
        "colab": {
          "base_uri": "https://localhost:8080/"
        },
        "id": "Ti7rIS1f5CBm",
        "outputId": "3769f322-547f-4e27-8ea2-9f7602efc19f"
      },
      "execution_count": null,
      "outputs": [
        {
          "output_type": "stream",
          "name": "stdout",
          "text": [
            "7\n",
            "3\n",
            "10\n",
            "2.5\n",
            "1\n",
            "16\n"
          ]
        }
      ]
    },
    {
      "cell_type": "code",
      "source": [
        "print (5 / 3)\n",
        "print (5 // 3)    #Returns only the Integer part"
      ],
      "metadata": {
        "colab": {
          "base_uri": "https://localhost:8080/"
        },
        "id": "cneCTF135XiG",
        "outputId": "198ab358-51a7-4a85-f0ce-c32b10ee3b26"
      },
      "execution_count": null,
      "outputs": [
        {
          "output_type": "stream",
          "name": "stdout",
          "text": [
            "1.6666666666666667\n",
            "1\n"
          ]
        }
      ]
    },
    {
      "cell_type": "code",
      "source": [
        "print (\"The current value of a is\", a)            #Concatenated using comma\n",
        "print (\"The current value of a is\", a, \"and b is\", b)"
      ],
      "metadata": {
        "id": "D5Y4hPR16GaA",
        "colab": {
          "base_uri": "https://localhost:8080/"
        },
        "outputId": "8f3abcb0-fead-4a69-e395-e5896a1de793"
      },
      "execution_count": null,
      "outputs": [
        {
          "output_type": "stream",
          "name": "stdout",
          "text": [
            "The current value of a is 123\n",
            "The current value of a is 123 and b is 1.23\n"
          ]
        }
      ]
    },
    {
      "cell_type": "code",
      "source": [
        "print (\"The current value of a is\", a)            #Default blank space\n",
        "print (\"The current value of a is\", a, sep = '...')  #Customize using separator"
      ],
      "metadata": {
        "id": "sWpFPILg6ahF",
        "colab": {
          "base_uri": "https://localhost:8080/"
        },
        "outputId": "54b962e9-1b93-4420-de30-968eedf15256"
      },
      "execution_count": null,
      "outputs": [
        {
          "output_type": "stream",
          "name": "stdout",
          "text": [
            "The current value of a is 123\n",
            "The current value of a is...123\n"
          ]
        }
      ]
    },
    {
      "cell_type": "code",
      "source": [
        "print (\"The current value of a is\", a)          #Auto newline added. If we don't need any newline, keep it blank\n",
        "print (\"The current value of a is\", a, end = \"\\n\\n\")\n",
        "print (\"Hello\")"
      ],
      "metadata": {
        "id": "7Sg0vHJ46cTL",
        "colab": {
          "base_uri": "https://localhost:8080/"
        },
        "outputId": "d0305179-1e32-426b-ea17-f5201323b8d7"
      },
      "execution_count": null,
      "outputs": [
        {
          "output_type": "stream",
          "name": "stdout",
          "text": [
            "The current value of a is 123\n",
            "The current value of a is 123\n",
            "\n",
            "Hello\n"
          ]
        }
      ]
    },
    {
      "cell_type": "markdown",
      "source": [
        "# String"
      ],
      "metadata": {
        "id": "QJDInrmrMwhN"
      }
    },
    {
      "cell_type": "code",
      "source": [
        "#String Concatenation\n",
        "x = \"Hi!\"\n",
        "y = \"My name is Suhit\"\n",
        "z = x + y\n",
        "print (z)"
      ],
      "metadata": {
        "colab": {
          "base_uri": "https://localhost:8080/"
        },
        "id": "NF2li37XMzI9",
        "outputId": "79446fd4-a80b-4020-a417-f459c888346e"
      },
      "execution_count": null,
      "outputs": [
        {
          "output_type": "stream",
          "name": "stdout",
          "text": [
            "Hi!My name is Suhit\n"
          ]
        }
      ]
    },
    {
      "cell_type": "code",
      "source": [
        "#Accessing String with character position number. Space is also a character\n",
        "print (y[0])\n",
        "print (y[5])"
      ],
      "metadata": {
        "colab": {
          "base_uri": "https://localhost:8080/"
        },
        "id": "jYD89_CONM5H",
        "outputId": "721da520-26ec-4223-92a3-40fbbf1e2bad"
      },
      "execution_count": null,
      "outputs": [
        {
          "output_type": "stream",
          "name": "stdout",
          "text": [
            "M\n",
            "m\n"
          ]
        }
      ]
    },
    {
      "cell_type": "code",
      "source": [
        "#Length of the String\n",
        "print (len(x))"
      ],
      "metadata": {
        "colab": {
          "base_uri": "https://localhost:8080/"
        },
        "id": "tewLjes0Nw84",
        "outputId": "b9610b38-8e17-4078-8802-461d03594a96"
      },
      "execution_count": null,
      "outputs": [
        {
          "output_type": "stream",
          "name": "stdout",
          "text": [
            "3\n"
          ]
        }
      ]
    },
    {
      "cell_type": "code",
      "source": [
        "#Acsessing Last Character\n",
        "print (y[len(y)-1])\n",
        "print(y[-1])"
      ],
      "metadata": {
        "colab": {
          "base_uri": "https://localhost:8080/"
        },
        "id": "oQef5xCbN6SK",
        "outputId": "2b93b3bc-5f5e-4707-b490-513d01052f65"
      },
      "execution_count": null,
      "outputs": [
        {
          "output_type": "stream",
          "name": "stdout",
          "text": [
            "t\n",
            "t\n"
          ]
        }
      ]
    },
    {
      "cell_type": "code",
      "source": [
        "#Common String Methods\n",
        "s = \"My name is Suhit\"\n",
        "\n",
        "print (y.upper())   #All uppercase\n",
        "print (y.lower())   #All lowercase\n",
        "print (y.title())   #Title case - Every word first letter uppercase"
      ],
      "metadata": {
        "colab": {
          "base_uri": "https://localhost:8080/"
        },
        "id": "5ubl1XfiOLPK",
        "outputId": "245b2a9f-0ca3-4df7-9c15-6160c785b7b9"
      },
      "execution_count": null,
      "outputs": [
        {
          "output_type": "stream",
          "name": "stdout",
          "text": [
            "MY NAME IS SUHIT\n",
            "my name is suhit\n",
            "My Name Is Suhit\n"
          ]
        }
      ]
    },
    {
      "cell_type": "code",
      "source": [
        "s = \"   My name is Suhit\"\n",
        "print (y.strip())   #Strips spaces from starting or ending positions\n",
        "print (y.strip().title())   #Combination of multiple methods - works sequentially"
      ],
      "metadata": {
        "id": "8lQqJ1UtPa05",
        "colab": {
          "base_uri": "https://localhost:8080/"
        },
        "outputId": "3282e7d7-69f7-4ef6-e74b-148ab7a36b96"
      },
      "execution_count": null,
      "outputs": [
        {
          "output_type": "stream",
          "name": "stdout",
          "text": [
            "My name is Suhit\n",
            "My Name Is Suhit\n"
          ]
        }
      ]
    },
    {
      "cell_type": "code",
      "source": [
        "s = \"My name is Suhit\"\n",
        "print (y.find(\"is\"))    #Returns the position of the 1st letter of the intended word\n",
        "print (y.find(\"hello\")) #Not in the string\n",
        "print (y.find (\"a\"))    #Returns 1st appearence position of the intended letter"
      ],
      "metadata": {
        "colab": {
          "base_uri": "https://localhost:8080/"
        },
        "id": "gz-P4SUmPFO4",
        "outputId": "27297c9b-ae10-4fba-a657-1d1506be130d"
      },
      "execution_count": null,
      "outputs": [
        {
          "output_type": "stream",
          "name": "stdout",
          "text": [
            "8\n",
            "-1\n",
            "4\n"
          ]
        }
      ]
    },
    {
      "cell_type": "code",
      "source": [
        "#Membership Operator. Returns Boolean\n",
        "\"Suhit\" in s"
      ],
      "metadata": {
        "colab": {
          "base_uri": "https://localhost:8080/"
        },
        "id": "NR1GxshDQStn",
        "outputId": "9dda672b-c9d9-4de9-a753-9b8a28b410ef"
      },
      "execution_count": null,
      "outputs": [
        {
          "output_type": "execute_result",
          "data": {
            "text/plain": [
              "True"
            ]
          },
          "metadata": {},
          "execution_count": 17
        }
      ]
    },
    {
      "cell_type": "code",
      "source": [
        "#Replace method\n",
        "m = \"My name is Sahib\"\n",
        "m_new = m.replace(\"Sahib\", \"Suhit\")\n",
        "print(m)\n",
        "print (m_new)"
      ],
      "metadata": {
        "colab": {
          "base_uri": "https://localhost:8080/"
        },
        "id": "W63Ut64LQdkD",
        "outputId": "43e0ab29-37c5-4293-8f32-240fba315e1d"
      },
      "execution_count": null,
      "outputs": [
        {
          "output_type": "stream",
          "name": "stdout",
          "text": [
            "My name is Sahib\n",
            "My name is Suhit\n"
          ]
        }
      ]
    },
    {
      "cell_type": "code",
      "source": [
        "#String Slicing\n",
        "s = \"I love watching Cricket!\"\n",
        "\n",
        "#m[a:b] -> Return from index a up until index b (b not included)\n",
        "print (s[0:5])"
      ],
      "metadata": {
        "colab": {
          "base_uri": "https://localhost:8080/"
        },
        "id": "vnKBzTtoQjZH",
        "outputId": "cac50b4e-4a50-4020-cfe8-de8831a7edbe"
      },
      "execution_count": null,
      "outputs": [
        {
          "output_type": "stream",
          "name": "stdout",
          "text": [
            "I lov\n"
          ]
        }
      ]
    },
    {
      "cell_type": "code",
      "source": [
        "print (s[:5])\n",
        "print (s[5:])"
      ],
      "metadata": {
        "colab": {
          "base_uri": "https://localhost:8080/"
        },
        "id": "nAczcP8VQnYL",
        "outputId": "23e3184e-8a34-4fbe-890a-8bc96669f564"
      },
      "execution_count": null,
      "outputs": [
        {
          "output_type": "stream",
          "name": "stdout",
          "text": [
            "I lov\n",
            "e watching Cricket!\n"
          ]
        }
      ]
    },
    {
      "cell_type": "code",
      "source": [
        "print (s[-4:])\n",
        "print(s[-1::-1])"
      ],
      "metadata": {
        "colab": {
          "base_uri": "https://localhost:8080/"
        },
        "id": "mxV_ZBLDQozT",
        "outputId": "bac77571-bdc4-44d3-ca58-e213eeba0b7a"
      },
      "execution_count": null,
      "outputs": [
        {
          "output_type": "stream",
          "name": "stdout",
          "text": [
            "ket!\n",
            "!tekcirC gnihctaw evol I\n"
          ]
        }
      ]
    },
    {
      "cell_type": "markdown",
      "source": [
        "# User Input"
      ],
      "metadata": {
        "id": "UYj0I-eaQrIv"
      }
    },
    {
      "cell_type": "code",
      "source": [
        "username = input(\"Enter username:\")\n",
        "print(\"Username is: \" + username)"
      ],
      "metadata": {
        "colab": {
          "base_uri": "https://localhost:8080/"
        },
        "id": "1vGSl_PbRtyP",
        "outputId": "b8582631-c0c3-432e-e141-bae073697bb5"
      },
      "execution_count": null,
      "outputs": [
        {
          "output_type": "stream",
          "name": "stdout",
          "text": [
            "Enter username:Suhit\n",
            "Username is: Suhit\n"
          ]
        }
      ]
    },
    {
      "cell_type": "code",
      "source": [
        "num = int(input(\"Enter number:\"))  #Take user input as string. Need to type cast to use the numbers\n",
        "print (num * 2)"
      ],
      "metadata": {
        "colab": {
          "base_uri": "https://localhost:8080/"
        },
        "id": "_dOR7KhESi1f",
        "outputId": "65de01f5-8f4d-412f-a66c-178cc7787a2c"
      },
      "execution_count": null,
      "outputs": [
        {
          "output_type": "stream",
          "name": "stdout",
          "text": [
            "Enter number:4\n",
            "8\n"
          ]
        }
      ]
    },
    {
      "cell_type": "markdown",
      "source": [
        "# Conditional Statements"
      ],
      "metadata": {
        "id": "RMCzuY24dCqn"
      }
    },
    {
      "cell_type": "code",
      "source": [
        "x = 5\n",
        "y = 6\n",
        "\n",
        "if x > y:\n",
        "  print(\"Maximum is x\")\n",
        "else:\n",
        "  print (\"Maximum is y\")"
      ],
      "metadata": {
        "colab": {
          "base_uri": "https://localhost:8080/"
        },
        "id": "asPpvFthdIev",
        "outputId": "3df5c4d9-9e17-4ba7-a5b7-fec86289c54c"
      },
      "execution_count": null,
      "outputs": [
        {
          "output_type": "stream",
          "name": "stdout",
          "text": [
            "Maximum is y\n"
          ]
        }
      ]
    },
    {
      "cell_type": "code",
      "source": [
        "#elif\n",
        "x = 5\n",
        "y = 5\n",
        "\n",
        "if x > y:\n",
        "  print(\"Maximum is x\")\n",
        "elif x == y:\n",
        "  print (\"x and y are equal\")\n",
        "else:\n",
        "  print (\"Maximum is y\")"
      ],
      "metadata": {
        "colab": {
          "base_uri": "https://localhost:8080/"
        },
        "id": "zaQxon66dL8-",
        "outputId": "e9679f29-2b76-4f90-c5de-38f54fe8164b"
      },
      "execution_count": null,
      "outputs": [
        {
          "output_type": "stream",
          "name": "stdout",
          "text": [
            "x and y are equal\n"
          ]
        }
      ]
    },
    {
      "cell_type": "code",
      "source": [
        "#and - Both conditions need to be True\n",
        "a = 200\n",
        "b = 10\n",
        "c = 500\n",
        "if a > b and c > a:\n",
        "  print(\"Both conditions are True\")\n",
        "else:\n",
        "  print(\"Negative!!\")"
      ],
      "metadata": {
        "colab": {
          "base_uri": "https://localhost:8080/"
        },
        "id": "6FWjqU1YdOoN",
        "outputId": "c4ed9f2a-1a0d-4060-cf35-92af029430fe"
      },
      "execution_count": null,
      "outputs": [
        {
          "output_type": "stream",
          "name": "stdout",
          "text": [
            "Both conditions are True\n"
          ]
        }
      ]
    },
    {
      "cell_type": "code",
      "source": [
        "#or - Either one of the conditions = True should be enough\n",
        "a = 200\n",
        "b = 10\n",
        "c = 500\n",
        "if a > b or a > c:\n",
        "  print(\"At least one of the conditions is True\")\n",
        "else:\n",
        "  print(\"Negative!!\")"
      ],
      "metadata": {
        "colab": {
          "base_uri": "https://localhost:8080/"
        },
        "id": "XTSMGCNtdQUD",
        "outputId": "1e3e79d1-d91d-457f-b4d5-1393c9695748"
      },
      "execution_count": null,
      "outputs": [
        {
          "output_type": "stream",
          "name": "stdout",
          "text": [
            "At least one of the conditions is True\n"
          ]
        }
      ]
    },
    {
      "cell_type": "code",
      "source": [
        "#Nested if\n",
        "x = 50\n",
        "\n",
        "if x > 10:\n",
        "  print(\"Above ten!\")\n",
        "  if x > 20:\n",
        "    print(\"and also above 20!\")\n",
        "  else:\n",
        "    print(\"but not above 20!\")\n",
        "else:\n",
        "  print(\"Not even above ten!\")"
      ],
      "metadata": {
        "colab": {
          "base_uri": "https://localhost:8080/"
        },
        "id": "TNauSPbCdQ_b",
        "outputId": "d17b5576-f866-41b8-ffd2-fff455992aad"
      },
      "execution_count": null,
      "outputs": [
        {
          "output_type": "stream",
          "name": "stdout",
          "text": [
            "Above ten!\n",
            "and also above 20!\n"
          ]
        }
      ]
    },
    {
      "cell_type": "code",
      "source": [
        "#pass statement - Can not leave any block blank. Use pass\n",
        "\n",
        "a = 10\n",
        "b = 20\n",
        "\n",
        "if b > a:\n",
        "  pass"
      ],
      "metadata": {
        "id": "UAjfef3EdTdQ"
      },
      "execution_count": null,
      "outputs": []
    },
    {
      "cell_type": "markdown",
      "source": [
        "# Python Built-in Data Types"
      ],
      "metadata": {
        "id": "O3_VaiIIfaM3"
      }
    },
    {
      "cell_type": "markdown",
      "source": [
        "#List\n",
        "* Similar to Java or C array\n",
        "* Collection of elements of multiple data types\n",
        "* Allows easy modification of data\n",
        "* Requires more memory to store additional information about data types of each element"
      ],
      "metadata": {
        "id": "D06hYOfdff_9"
      }
    },
    {
      "cell_type": "code",
      "source": [
        "#Initializing\n",
        "list = [1, 2, 3, 4, 5]\n",
        "print(list)"
      ],
      "metadata": {
        "colab": {
          "base_uri": "https://localhost:8080/"
        },
        "id": "rYWSjBBbfiTV",
        "outputId": "8a22825d-def7-4cfa-9d6e-c78657fec9cc"
      },
      "execution_count": null,
      "outputs": [
        {
          "output_type": "stream",
          "name": "stdout",
          "text": [
            "[1, 2, 3, 4, 5]\n"
          ]
        }
      ]
    },
    {
      "cell_type": "code",
      "source": [
        "mixed_list = [1, 2.5, \"hello\", [1, 2, 3]]\n",
        "print(mixed_list[3])"
      ],
      "metadata": {
        "colab": {
          "base_uri": "https://localhost:8080/"
        },
        "id": "2EZNHk0ig1He",
        "outputId": "24c00ddf-e0f4-4b9e-bc1d-ac519f4f918a"
      },
      "execution_count": null,
      "outputs": [
        {
          "output_type": "stream",
          "name": "stdout",
          "text": [
            "[1, 2, 3]\n"
          ]
        }
      ]
    },
    {
      "cell_type": "code",
      "source": [
        "#List Methods\n",
        "print(len(list))\n",
        "print(4 in list)    #Search\n",
        "\n",
        "list[2] = \"New\"     #Update value\n",
        "print(list)\n",
        "\n",
        "list.append(\"World\")    #Add new element\n",
        "print(list)\n"
      ],
      "metadata": {
        "colab": {
          "base_uri": "https://localhost:8080/"
        },
        "id": "9vTUgxdihAge",
        "outputId": "53de76b2-aca1-47ed-fdb0-40b92de9bfb9"
      },
      "execution_count": null,
      "outputs": [
        {
          "output_type": "stream",
          "name": "stdout",
          "text": [
            "5\n",
            "True\n",
            "[1, 2, 'New', 4, 5]\n",
            "[1, 2, 'New', 4, 5, 'World']\n"
          ]
        }
      ]
    },
    {
      "cell_type": "code",
      "source": [
        "list.remove(\"New\")    #Remove element\n",
        "print(list)\n",
        "list.pop(1)           #Remove using index\n",
        "print(list)\n",
        "\n",
        "list2 = [16, 55]\n",
        "joined_list = list + list2\n",
        "print(joined_list)"
      ],
      "metadata": {
        "colab": {
          "base_uri": "https://localhost:8080/"
        },
        "id": "_c_eNM3TkGBH",
        "outputId": "f9d3da39-ba49-43b5-c28c-08ecd836994c"
      },
      "execution_count": null,
      "outputs": [
        {
          "output_type": "stream",
          "name": "stdout",
          "text": [
            "[1, 2, 4, 5, 'World']\n",
            "[1, 4, 5, 'World']\n",
            "[1, 4, 5, 'World', 16, 55]\n"
          ]
        }
      ]
    },
    {
      "cell_type": "code",
      "source": [
        "my_list = ['a', 'b', 'c', 'd', 'e', 'f']"
      ],
      "metadata": {
        "id": "S5RXQdaClcs2"
      },
      "execution_count": null,
      "outputs": []
    },
    {
      "cell_type": "code",
      "source": [
        "#List Slicing\n",
        "\n",
        "print (my_list[3])\n",
        "print (my_list[1:3])\n",
        "print (my_list[:3])\n",
        "print (my_list[3:])\n",
        "print (my_list[-3:])"
      ],
      "metadata": {
        "colab": {
          "base_uri": "https://localhost:8080/"
        },
        "id": "wp8se23clDYU",
        "outputId": "81fe21a6-87b7-47b8-d9cc-40374fa85abb"
      },
      "execution_count": null,
      "outputs": [
        {
          "output_type": "stream",
          "name": "stdout",
          "text": [
            "d\n",
            "['b', 'c']\n",
            "['a', 'b', 'c']\n",
            "['d', 'e', 'f']\n",
            "['d', 'e', 'f']\n"
          ]
        }
      ]
    },
    {
      "cell_type": "code",
      "source": [
        "print (my_list[0:4:2])      #index+2 everytime\n",
        "print (my_list[:])          #All elements\n",
        "print (my_list[::2])\n",
        "print (my_list[::-1])       #Reverse order"
      ],
      "metadata": {
        "colab": {
          "base_uri": "https://localhost:8080/"
        },
        "id": "oafw3g8PlXZn",
        "outputId": "4b8d1d9c-bdf2-47f5-dcc0-a8cdd15b982e"
      },
      "execution_count": null,
      "outputs": [
        {
          "output_type": "stream",
          "name": "stdout",
          "text": [
            "['a', 'c']\n",
            "['a', 'b', 'c', 'd', 'e', 'f']\n",
            "['a', 'c', 'e']\n",
            "['f', 'e', 'd', 'c', 'b', 'a']\n"
          ]
        }
      ]
    },
    {
      "cell_type": "code",
      "source": [
        "#Print last 4 elements in reverse\n",
        "my_list = ['a', 'b', 'c', 'd', 'e', 'f']\n",
        "\n",
        "print (my_list[-1:-5:-1])\n",
        "print (my_list[-1:-5:1])"
      ],
      "metadata": {
        "colab": {
          "base_uri": "https://localhost:8080/"
        },
        "id": "vnwvsBQVlZqQ",
        "outputId": "cce0c7d2-43d5-4d09-9566-b573249325a6"
      },
      "execution_count": null,
      "outputs": [
        {
          "output_type": "stream",
          "name": "stdout",
          "text": [
            "['f', 'e', 'd', 'c']\n",
            "[]\n"
          ]
        }
      ]
    },
    {
      "cell_type": "code",
      "source": [
        "#print 2nd to 5th element reverse order\n",
        "print (my_list[4:0:-1])"
      ],
      "metadata": {
        "colab": {
          "base_uri": "https://localhost:8080/"
        },
        "id": "KfetchE5la4Z",
        "outputId": "fee79527-9bac-48f4-8c0b-d340a0edf1ef"
      },
      "execution_count": null,
      "outputs": [
        {
          "output_type": "stream",
          "name": "stdout",
          "text": [
            "['e', 'd', 'c', 'b']\n"
          ]
        }
      ]
    },
    {
      "cell_type": "code",
      "source": [
        "#Matrix [List of list] using list\n",
        "matrix = [[1, 2, 3, 4],\n",
        "          [5, 6, 7, 8]]\n",
        "\n",
        "# |1 2 3 4|\n",
        "# |5 6 7 8|\n",
        "\n",
        "print (matrix[1][2])"
      ],
      "metadata": {
        "colab": {
          "base_uri": "https://localhost:8080/"
        },
        "id": "VnpfPciTnTpI",
        "outputId": "964c4ad1-648b-4309-be78-49632e68f9d7"
      },
      "execution_count": null,
      "outputs": [
        {
          "output_type": "stream",
          "name": "stdout",
          "text": [
            "7\n"
          ]
        }
      ]
    },
    {
      "cell_type": "markdown",
      "source": [
        "# Tuple\n",
        "* Immutable - Items can not be modified\n",
        "* Collection of elements of multiple data types"
      ],
      "metadata": {
        "id": "6CwFa9HRr_hC"
      }
    },
    {
      "cell_type": "code",
      "source": [
        "tuple = (1, 2, 3, 4, 5)\n",
        "tuple[0]"
      ],
      "metadata": {
        "colab": {
          "base_uri": "https://localhost:8080/"
        },
        "id": "GDam-N-2sBWr",
        "outputId": "056eb5d7-13ac-4f99-95bd-d30d4f2b700f"
      },
      "execution_count": null,
      "outputs": [
        {
          "output_type": "execute_result",
          "data": {
            "text/plain": [
              "1"
            ]
          },
          "metadata": {},
          "execution_count": 40
        }
      ]
    },
    {
      "cell_type": "code",
      "source": [
        "tuple[1] = \"hello\""
      ],
      "metadata": {
        "colab": {
          "base_uri": "https://localhost:8080/",
          "height": 141
        },
        "id": "8QiO-_bIslYl",
        "outputId": "0d042284-8b63-4f3d-cbe3-465cf437e604"
      },
      "execution_count": null,
      "outputs": [
        {
          "output_type": "error",
          "ename": "TypeError",
          "evalue": "'tuple' object does not support item assignment",
          "traceback": [
            "\u001b[0;31m---------------------------------------------------------------------------\u001b[0m",
            "\u001b[0;31mTypeError\u001b[0m                                 Traceback (most recent call last)",
            "\u001b[0;32m<ipython-input-41-f3de6cd25f9c>\u001b[0m in \u001b[0;36m<cell line: 1>\u001b[0;34m()\u001b[0m\n\u001b[0;32m----> 1\u001b[0;31m \u001b[0mtuple\u001b[0m\u001b[0;34m[\u001b[0m\u001b[0;36m1\u001b[0m\u001b[0;34m]\u001b[0m \u001b[0;34m=\u001b[0m \u001b[0;34m\"hello\"\u001b[0m\u001b[0;34m\u001b[0m\u001b[0;34m\u001b[0m\u001b[0m\n\u001b[0m",
            "\u001b[0;31mTypeError\u001b[0m: 'tuple' object does not support item assignment"
          ]
        }
      ]
    },
    {
      "cell_type": "markdown",
      "source": [
        "#Set\n",
        "* Immutable - Items can not be modified\n",
        "* Unordered - No index\n",
        "* No duplicates allowed"
      ],
      "metadata": {
        "id": "vgcyxF2ps6KI"
      }
    },
    {
      "cell_type": "code",
      "source": [
        "set = {\"apple\", \"banana\", \"cherry\", \"banana\"}\n",
        "print(set)"
      ],
      "metadata": {
        "id": "9W6aIMQutG5o"
      },
      "execution_count": null,
      "outputs": []
    },
    {
      "cell_type": "code",
      "source": [
        "set.add(\"orange\")\n",
        "print(set)\n",
        "\n",
        "set.remove(\"banana\")\n",
        "print(set)"
      ],
      "metadata": {
        "id": "GtfvBZX2tmAM"
      },
      "execution_count": null,
      "outputs": []
    },
    {
      "cell_type": "markdown",
      "source": [
        "# Dictionary\n",
        "* Values stored as key:value pair\n",
        "* Mutable\n",
        "* Key can be of any types but can not be a duplicate value"
      ],
      "metadata": {
        "id": "HZ2WTD9Lt7Gd"
      }
    },
    {
      "cell_type": "code",
      "source": [
        "cricketers = {\n",
        "    75: \"Shakib\",\n",
        "    2: \"Mashrafee\",\n",
        "    28: \"Tamim\",\n",
        "    \"Extra\": \"Riad\"\n",
        "}\n",
        "\n",
        "print(cricketers)"
      ],
      "metadata": {
        "id": "7XIvFev-uHCh"
      },
      "execution_count": null,
      "outputs": []
    },
    {
      "cell_type": "code",
      "source": [
        "print(cricketers[\"Extra\"])      #Accessing elements\n",
        "print(cricketers[2])\n",
        "\n",
        "cricketers[\"Extra\"] = \"Mahmudullah\"\n",
        "print(cricketers)\n",
        "\n",
        "cricketers.update({15:\"Mushfiq\"})\n",
        "print(cricketers)\n",
        "\n",
        "cricketers.pop(\"Extra\")\n",
        "print(cricketers)"
      ],
      "metadata": {
        "id": "VAkrgpV2vJk8"
      },
      "execution_count": null,
      "outputs": []
    },
    {
      "cell_type": "markdown",
      "source": [
        "# Loops\n",
        "* 2 types - while loop and for loop"
      ],
      "metadata": {
        "id": "XefbnIv-yCPq"
      }
    },
    {
      "cell_type": "code",
      "source": [
        "#while loop\n",
        "i = 0\n",
        "while i < 10:\n",
        "    print(i)\n",
        "    i = i + 1"
      ],
      "metadata": {
        "id": "mzPpzOMDvxez"
      },
      "execution_count": null,
      "outputs": []
    },
    {
      "cell_type": "code",
      "source": [
        "#for loop\n",
        "for i in range(0, 10,2):\n",
        "  print(i)"
      ],
      "metadata": {
        "id": "4OVl6arPyrCI"
      },
      "execution_count": null,
      "outputs": []
    },
    {
      "cell_type": "code",
      "source": [
        "# Iterate over the list\n",
        "list = ['a', 'b', 'c', 'd', 'e']\n",
        "\n",
        "for i in list:\n",
        "  print (i)"
      ],
      "metadata": {
        "id": "mNWb7g0Fyy-l"
      },
      "execution_count": null,
      "outputs": []
    },
    {
      "cell_type": "code",
      "source": [
        "# Program to iterate through a list using indexing\n",
        "list = ['a', 'b', 'c', 'd', 'e']\n",
        "\n",
        "# iterate over the list using index\n",
        "for i in range(0, len(list)):\n",
        "    print(\"index =\", i, \"value =\", list[i])\n",
        "\n",
        "for i,j in enumerate(list):\n",
        "  print (i,j)"
      ],
      "metadata": {
        "id": "m7glCG6By0l0"
      },
      "execution_count": null,
      "outputs": []
    },
    {
      "cell_type": "code",
      "source": [
        "#break statement - Out of the loop\n",
        "fruits = [\"apple\", \"banana\", \"cherry\"]\n",
        "for x in fruits:\n",
        "  print(x)\n",
        "  if x == \"banana\":\n",
        "    break"
      ],
      "metadata": {
        "id": "mQDpRFlmy2Jx"
      },
      "execution_count": null,
      "outputs": []
    },
    {
      "cell_type": "code",
      "source": [
        "#continue statement - Stop the current iteration of the loop and continue with the next\n",
        "fruits = [\"apple\", \"banana\", \"cherry\"]\n",
        "for i in fruits:\n",
        "  if i == \"banana\":\n",
        "    continue\n",
        "  print(i)"
      ],
      "metadata": {
        "id": "BbuEkXpmy6Rk"
      },
      "execution_count": null,
      "outputs": []
    },
    {
      "cell_type": "code",
      "source": [
        "#Nested loop\n",
        "num_list = [1, 2, 3]\n",
        "alphabet_list = ['a', 'b', 'c']\n",
        "\n",
        "for number in num_list:\n",
        "    print(number)\n",
        "    for letter in alphabet_list:\n",
        "        print(letter)"
      ],
      "metadata": {
        "id": "aJR6A5Cvy-jl"
      },
      "execution_count": null,
      "outputs": []
    },
    {
      "cell_type": "markdown",
      "source": [
        "# Functions"
      ],
      "metadata": {
        "id": "1DozBdLd8Lms"
      }
    },
    {
      "cell_type": "code",
      "source": [
        "def hello_function():\n",
        "  print(\"Hello\")\n",
        "\n",
        "hello_function()      #Global Scope"
      ],
      "metadata": {
        "id": "-VNi1sQS8O6T"
      },
      "execution_count": null,
      "outputs": []
    },
    {
      "cell_type": "code",
      "source": [
        "#With parameter\n",
        "def name_function(fname, lname):\n",
        "  print(fname, \" \", lname)\n",
        "\n",
        "name_function(\"Anika\", \"Mrittika\")"
      ],
      "metadata": {
        "id": "8ZIcw_Xf8Rm6"
      },
      "execution_count": null,
      "outputs": []
    },
    {
      "cell_type": "code",
      "source": [
        "#With return statement\n",
        "def sum_numbers(number1, number2):\n",
        "  result = number1+number2\n",
        "  return result\n",
        "\n",
        "x = sum_numbers(2, 3)\n",
        "print (x)"
      ],
      "metadata": {
        "id": "GyE5gcc88TfB"
      },
      "execution_count": null,
      "outputs": []
    },
    {
      "cell_type": "code",
      "source": [
        "#Default Parameter Value\n",
        "def increment(number, by=1):\n",
        "    return number + by\n",
        "\n",
        "print(increment(2))\n",
        "print(increment(2, 5))\n",
        "\n",
        "# Keyword arguments\n",
        "print(increment(by=10, number=25))"
      ],
      "metadata": {
        "id": "f-xmb-TG8WZh"
      },
      "execution_count": null,
      "outputs": []
    },
    {
      "cell_type": "code",
      "source": [
        "#If the number of arguments is unknown, add a * before the parameter name. Stored as a Tuple\n",
        "def print_student_list(*kids):\n",
        "  for x in kids:\n",
        "    print (x)\n",
        "\n",
        "print_student_list(\"Emil\", \"Tobias\", \"Linus\")"
      ],
      "metadata": {
        "id": "RKxRqj9f8XCP"
      },
      "execution_count": null,
      "outputs": []
    },
    {
      "cell_type": "markdown",
      "source": [
        "# Numpy\n",
        "* A Python library\n",
        "* Used for working with arrays\n",
        "* Short form of \"Numerical Python\"\n",
        "* Aims to provide an array object that is up to 50x faster than traditional Python lists\n",
        "* Provides a lot of supporting functions"
      ],
      "metadata": {
        "id": "0EE-AY7H_OhY"
      }
    },
    {
      "cell_type": "code",
      "source": [
        "import numpy as np"
      ],
      "metadata": {
        "id": "xtFNP_RN_pMg"
      },
      "execution_count": null,
      "outputs": []
    },
    {
      "cell_type": "code",
      "source": [
        "arr = np.array([1 , 2, 3, 2.45, \"hello\"])\n",
        "print(arr)\n",
        "\n",
        "print(type(arr))"
      ],
      "metadata": {
        "colab": {
          "base_uri": "https://localhost:8080/"
        },
        "id": "Z3WFV-mw_spn",
        "outputId": "d5999dc5-bf65-4897-96d1-e3593ab8314b"
      },
      "execution_count": null,
      "outputs": [
        {
          "output_type": "stream",
          "name": "stdout",
          "text": [
            "['1' '2' '3' '2.45' 'hello']\n",
            "<class 'numpy.ndarray'>\n"
          ]
        }
      ]
    },
    {
      "cell_type": "code",
      "source": [
        "print(len(arr))"
      ],
      "metadata": {
        "colab": {
          "base_uri": "https://localhost:8080/"
        },
        "id": "6ca6xhZ7_w0O",
        "outputId": "c3200d83-08ea-4424-f434-3ce3240ee7b2"
      },
      "execution_count": null,
      "outputs": [
        {
          "output_type": "stream",
          "name": "stdout",
          "text": [
            "5\n"
          ]
        }
      ]
    },
    {
      "cell_type": "code",
      "source": [
        "#Append\n",
        "x = np.array([1, 2, 3, 4, 5])\n",
        "y = np.append(x,50)\n",
        "z = np.append(y, [30, 70])\n",
        "print(y)\n",
        "print(z)\n",
        "print(x) #No change in main array"
      ],
      "metadata": {
        "colab": {
          "base_uri": "https://localhost:8080/"
        },
        "id": "iDcdgWMt_yVH",
        "outputId": "3d271e2a-78c2-4d58-dac3-999d366e10b8"
      },
      "execution_count": null,
      "outputs": [
        {
          "output_type": "stream",
          "name": "stdout",
          "text": [
            "[ 1  2  3  4  5 50]\n",
            "[ 1  2  3  4  5 50 30 70]\n",
            "[1 2 3 4 5]\n"
          ]
        }
      ]
    },
    {
      "cell_type": "code",
      "source": [
        "#Delete\n",
        "x = np.array([1, 2, 3, 4, 5])\n",
        "y = np.delete(x, 2)   #Delete using index\n",
        "print(x)\n",
        "print(y)"
      ],
      "metadata": {
        "colab": {
          "base_uri": "https://localhost:8080/"
        },
        "id": "Q1pfVX40_0FN",
        "outputId": "6e4ccd43-4bfe-4a5f-a508-7f2485c29700"
      },
      "execution_count": null,
      "outputs": [
        {
          "output_type": "stream",
          "name": "stdout",
          "text": [
            "[1 2 3 4 5]\n",
            "[1 2 4 5]\n"
          ]
        }
      ]
    },
    {
      "cell_type": "code",
      "source": [
        "#Sorting\n",
        "x = np.array([7, 8, 3, 10, 5])\n",
        "sorted_x = np.sort(x)\n",
        "print(sorted_x)     #Ascending\n",
        "y= sorted_x[::-1]\n",
        "print(y)   #Descending - Reverse the Ascending order sorted array"
      ],
      "metadata": {
        "colab": {
          "base_uri": "https://localhost:8080/"
        },
        "id": "1qy0N4g3_3j2",
        "outputId": "58dcbd5d-a3eb-4ea5-ced1-b52c5f2edc5e"
      },
      "execution_count": null,
      "outputs": [
        {
          "output_type": "stream",
          "name": "stdout",
          "text": [
            "[ 3  5  7  8 10]\n",
            "[10  8  7  5  3]\n"
          ]
        }
      ]
    },
    {
      "cell_type": "code",
      "source": [
        "arr_2d = np.array([[1, 2, 3], [4, 5, 6],[7, 8, 9]])\n",
        "print(arr_2d)\n",
        "\n"
      ],
      "metadata": {
        "colab": {
          "base_uri": "https://localhost:8080/"
        },
        "id": "vIZa3jz__5Fk",
        "outputId": "7c9c0008-8a7b-447d-f59d-f232bd25f0db"
      },
      "execution_count": null,
      "outputs": [
        {
          "output_type": "stream",
          "name": "stdout",
          "text": [
            "[[1 2 3]\n",
            " [4 5 6]\n",
            " [7 8 9]]\n"
          ]
        }
      ]
    },
    {
      "cell_type": "code",
      "source": [
        "print(len(arr_2d))\n",
        "print(arr_2d.shape)     #row, column\n",
        "print(arr_2d.ndim)      #Dimension"
      ],
      "metadata": {
        "colab": {
          "base_uri": "https://localhost:8080/"
        },
        "id": "XBmIx2l5D8No",
        "outputId": "8afd9938-a765-4e11-dd81-6f9c74ad5780"
      },
      "execution_count": null,
      "outputs": [
        {
          "output_type": "stream",
          "name": "stdout",
          "text": [
            "3\n",
            "(3, 3)\n",
            "2\n"
          ]
        }
      ]
    },
    {
      "cell_type": "code",
      "source": [
        "#indexing\n",
        "arr = np.array([1, 2, 3, 4])\n",
        "\n",
        "print(arr[0])     #1st element\n",
        "print(arr[-1])    #Last element"
      ],
      "metadata": {
        "colab": {
          "base_uri": "https://localhost:8080/"
        },
        "id": "PZpNDB7L_6pX",
        "outputId": "cc6221bd-7437-4b02-c913-2ce028854c48"
      },
      "execution_count": null,
      "outputs": [
        {
          "output_type": "stream",
          "name": "stdout",
          "text": [
            "1\n",
            "4\n"
          ]
        }
      ]
    },
    {
      "cell_type": "code",
      "source": [
        "arr = np.array([[1,2,3,4,5], [6,7,8,9,10]])\n",
        "print(arr)\n",
        "\n",
        "print('5th element on 2nd row: ', arr[1, 4])"
      ],
      "metadata": {
        "colab": {
          "base_uri": "https://localhost:8080/"
        },
        "id": "IrKfWsQjESMX",
        "outputId": "0bce3747-b34c-42cd-df18-fed83ffe41b6"
      },
      "execution_count": null,
      "outputs": [
        {
          "output_type": "stream",
          "name": "stdout",
          "text": [
            "[[ 1  2  3  4  5]\n",
            " [ 6  7  8  9 10]]\n",
            "5th element on 2nd row:  10\n"
          ]
        }
      ]
    },
    {
      "cell_type": "code",
      "source": [
        "#Slicing\n",
        "arr = np.array([1, 2, 3, 4, 5, 6, 7])\n",
        "\n",
        "print(arr[4:])\n",
        "print(arr[:4])\n",
        "print(arr[-3:-1])\n",
        "print(arr[1:5:2])"
      ],
      "metadata": {
        "colab": {
          "base_uri": "https://localhost:8080/"
        },
        "id": "H0rVK7A_BJEt",
        "outputId": "4faf365c-ed10-424f-ca3d-1a38ee86cfb8"
      },
      "execution_count": null,
      "outputs": [
        {
          "output_type": "stream",
          "name": "stdout",
          "text": [
            "[5 6 7]\n",
            "[1 2 3 4]\n",
            "[5 6]\n",
            "[2 4]\n"
          ]
        }
      ]
    },
    {
      "cell_type": "code",
      "source": [
        "#Slicing 2-D Arrays\n",
        "arr = np.array([[1, 2, 3, 4, 5], [6, 7, 8, 9, 10]])\n",
        "\n",
        "#From the second row, slice elements from index 1 to index 4 (not included)\n",
        "print(arr[1, 1:4])\n",
        "print()\n",
        "#From both rows, slice index 1 to index 4 (not included)\n",
        "print(arr[0:2, 1:4])"
      ],
      "metadata": {
        "colab": {
          "base_uri": "https://localhost:8080/"
        },
        "id": "YoYhF5ErBWDo",
        "outputId": "bf3338de-d21d-4935-8706-f14e3738881e"
      },
      "execution_count": null,
      "outputs": [
        {
          "output_type": "stream",
          "name": "stdout",
          "text": [
            "[7 8 9]\n",
            "\n",
            "[[2 3 4]\n",
            " [7 8 9]]\n"
          ]
        }
      ]
    },
    {
      "cell_type": "code",
      "source": [
        "arr = np.array([[1, 2, 3, 4, 5], [6, 7, 8, 9, 10]])\n",
        "print (arr)"
      ],
      "metadata": {
        "colab": {
          "base_uri": "https://localhost:8080/"
        },
        "id": "XTp-AIxLBXjK",
        "outputId": "e434cb5c-e6c9-4d19-fb12-0d843fc54bc0"
      },
      "execution_count": null,
      "outputs": [
        {
          "output_type": "stream",
          "name": "stdout",
          "text": [
            "[[ 1  2  3  4  5]\n",
            " [ 6  7  8  9 10]]\n"
          ]
        }
      ]
    },
    {
      "cell_type": "code",
      "source": [
        "print(arr[:, 0])    #column\n",
        "print(arr[0, :])    #row"
      ],
      "metadata": {
        "colab": {
          "base_uri": "https://localhost:8080/"
        },
        "id": "zQQJ3EjNBZGh",
        "outputId": "a186a9ba-9c81-4465-d388-e79c2275c818"
      },
      "execution_count": null,
      "outputs": [
        {
          "output_type": "stream",
          "name": "stdout",
          "text": [
            "[1 6]\n",
            "[1 2 3 4 5]\n"
          ]
        }
      ]
    },
    {
      "cell_type": "code",
      "source": [
        "#zero matrix\n",
        "x = np.zeros(5)\n",
        "print(x)\n",
        "\n",
        "y = np.zeros(5,dtype=int)\n",
        "print(y)"
      ],
      "metadata": {
        "colab": {
          "base_uri": "https://localhost:8080/"
        },
        "id": "rpqch64hBZgb",
        "outputId": "babaac9c-5579-4a1f-e65c-c47f5fa2b7d0"
      },
      "execution_count": null,
      "outputs": [
        {
          "output_type": "stream",
          "name": "stdout",
          "text": [
            "[0. 0. 0. 0. 0.]\n",
            "[0 0 0 0 0]\n"
          ]
        }
      ]
    },
    {
      "cell_type": "code",
      "source": [
        "y = np.zeros((4,2))     #row, column\n",
        "print(y)\n",
        "\n",
        "print()\n",
        "print()\n",
        "\n",
        "z = np.zeros((3,3),dtype=int)     #row, column\n",
        "print(z)"
      ],
      "metadata": {
        "colab": {
          "base_uri": "https://localhost:8080/"
        },
        "id": "1RH97HoTHhBc",
        "outputId": "bc8fd063-6b8d-4889-9ddf-337d656f3fb8"
      },
      "execution_count": null,
      "outputs": [
        {
          "output_type": "stream",
          "name": "stdout",
          "text": [
            "[[0. 0.]\n",
            " [0. 0.]\n",
            " [0. 0.]\n",
            " [0. 0.]]\n",
            "\n",
            "\n",
            "[[0 0 0]\n",
            " [0 0 0]\n",
            " [0 0 0]]\n"
          ]
        }
      ]
    },
    {
      "cell_type": "code",
      "source": [
        "a = np.array([3, 4, 5])\n",
        "b = np.array([[1,2,3],[4,5,6]])\n",
        "\n",
        "print(np.sum(a))      #Summation of all elements\n",
        "print(np.prod(a))     #Product of all elements\n",
        "\n",
        "print(np.sum(b))\n",
        "print(np.sum(b, axis=0))      #Column-wise\n",
        "print(np.sum(b, axis=1))      #Row-wise"
      ],
      "metadata": {
        "colab": {
          "base_uri": "https://localhost:8080/"
        },
        "id": "n4nyp2G-Ba58",
        "outputId": "f801b9f0-5e1e-4088-c6b8-18a58635d3e1"
      },
      "execution_count": null,
      "outputs": [
        {
          "output_type": "stream",
          "name": "stdout",
          "text": [
            "12\n",
            "60\n",
            "21\n",
            "[5 7 9]\n",
            "[ 6 15]\n"
          ]
        }
      ]
    },
    {
      "cell_type": "code",
      "source": [
        "#Logical indexing - Identify which elements fulfill the constraint\n",
        "b = np.array([[1,2,3],[4,5,6]])\n",
        "print(b > 2)"
      ],
      "metadata": {
        "colab": {
          "base_uri": "https://localhost:8080/"
        },
        "id": "HwYYLGfkBceg",
        "outputId": "9498a9f0-b348-4fd8-bcfd-cd1489199ec6"
      },
      "execution_count": null,
      "outputs": [
        {
          "output_type": "stream",
          "name": "stdout",
          "text": [
            "[[False False  True]\n",
            " [ True  True  True]]\n"
          ]
        }
      ]
    },
    {
      "cell_type": "code",
      "source": [
        "print(b[ b > 2 ])       #Extract the elements that fulfill the constraint"
      ],
      "metadata": {
        "colab": {
          "base_uri": "https://localhost:8080/"
        },
        "id": "u01huVcQBeXf",
        "outputId": "f54f68a7-1494-4920-eb16-06976f0a06df"
      },
      "execution_count": null,
      "outputs": [
        {
          "output_type": "stream",
          "name": "stdout",
          "text": [
            "[3 4 5 6]\n"
          ]
        }
      ]
    },
    {
      "cell_type": "code",
      "source": [
        "b[ b > 2 ] = 100      #Replace where the constraints are fulfilled\n",
        "print(b)"
      ],
      "metadata": {
        "colab": {
          "base_uri": "https://localhost:8080/"
        },
        "id": "VPG8dYD5JE0J",
        "outputId": "3ca01a9d-045a-454e-b279-b20ebe760f40"
      },
      "execution_count": null,
      "outputs": [
        {
          "output_type": "stream",
          "name": "stdout",
          "text": [
            "[[  1   2 100]\n",
            " [100 100 100]]\n"
          ]
        }
      ]
    },
    {
      "cell_type": "code",
      "source": [
        "#Iterating\n",
        "arr = np.array([1, 2, 3])\n",
        "for x in arr:\n",
        "  print(x)"
      ],
      "metadata": {
        "colab": {
          "base_uri": "https://localhost:8080/"
        },
        "id": "nFu_IeI1Bfhk",
        "outputId": "cc607ff5-2203-4f56-c58d-c644cf1c902a"
      },
      "execution_count": null,
      "outputs": [
        {
          "output_type": "stream",
          "name": "stdout",
          "text": [
            "1\n",
            "2\n",
            "3\n"
          ]
        }
      ]
    },
    {
      "cell_type": "code",
      "source": [
        "#Print row by row\n",
        "arr = np.array([[1, 2, 3], [4, 5, 6]])\n",
        "for x in arr:\n",
        "  print(x)"
      ],
      "metadata": {
        "colab": {
          "base_uri": "https://localhost:8080/"
        },
        "id": "iz6LJn_XJn81",
        "outputId": "c59b2242-3352-464d-d188-f42ec336492b"
      },
      "execution_count": null,
      "outputs": [
        {
          "output_type": "stream",
          "name": "stdout",
          "text": [
            "[1 2 3]\n",
            "[4 5 6]\n"
          ]
        }
      ]
    },
    {
      "cell_type": "code",
      "source": [
        "#Print element by element\n",
        "arr = np.array([[1, 2, 3], [4, 5, 6]])\n",
        "for x in arr:\n",
        "  for y in x:\n",
        "    print(y)"
      ],
      "metadata": {
        "colab": {
          "base_uri": "https://localhost:8080/"
        },
        "id": "Sn4FPAkrJpsB",
        "outputId": "e8bb22cc-dcdc-4e60-afab-d1903bbaa91c"
      },
      "execution_count": null,
      "outputs": [
        {
          "output_type": "stream",
          "name": "stdout",
          "text": [
            "1\n",
            "2\n",
            "3\n",
            "4\n",
            "5\n",
            "6\n"
          ]
        }
      ]
    },
    {
      "cell_type": "code",
      "source": [
        "#linspace - Create a random array, same difference between the numbers\n",
        "x = np.linspace(0, 100, 51)     #start, end, how many numbers\n",
        "print(x)"
      ],
      "metadata": {
        "colab": {
          "base_uri": "https://localhost:8080/"
        },
        "id": "fRr6gVT3Bhbv",
        "outputId": "bf1dadc5-4e0a-4266-f48d-c45a1d29d9ac"
      },
      "execution_count": null,
      "outputs": [
        {
          "output_type": "stream",
          "name": "stdout",
          "text": [
            "[  0.   2.   4.   6.   8.  10.  12.  14.  16.  18.  20.  22.  24.  26.\n",
            "  28.  30.  32.  34.  36.  38.  40.  42.  44.  46.  48.  50.  52.  54.\n",
            "  56.  58.  60.  62.  64.  66.  68.  70.  72.  74.  76.  78.  80.  82.\n",
            "  84.  86.  88.  90.  92.  94.  96.  98. 100.]\n"
          ]
        }
      ]
    },
    {
      "cell_type": "code",
      "source": [
        "x = np.linspace(0, 10, 8)     #No 8 integer values of same difference between 0 - 10\n",
        "print(x)"
      ],
      "metadata": {
        "colab": {
          "base_uri": "https://localhost:8080/"
        },
        "id": "mGwVVGoUK9Lq",
        "outputId": "23d88b59-42ca-46d9-bb4b-313136f3b059"
      },
      "execution_count": null,
      "outputs": [
        {
          "output_type": "stream",
          "name": "stdout",
          "text": [
            "[ 0.          1.42857143  2.85714286  4.28571429  5.71428571  7.14285714\n",
            "  8.57142857 10.        ]\n"
          ]
        }
      ]
    },
    {
      "cell_type": "code",
      "source": [
        "#Element wise operation - same operation on every element at a time\n",
        "\n",
        "print(x + 10)"
      ],
      "metadata": {
        "colab": {
          "base_uri": "https://localhost:8080/"
        },
        "id": "BEcs4AqmBi_Z",
        "outputId": "70a5c31f-34fc-491f-b644-56f44fc5c41d"
      },
      "execution_count": null,
      "outputs": [
        {
          "output_type": "stream",
          "name": "stdout",
          "text": [
            "[10.         11.42857143 12.85714286 14.28571429 15.71428571 17.14285714\n",
            " 18.57142857 20.        ]\n"
          ]
        }
      ]
    },
    {
      "cell_type": "code",
      "source": [
        "y = np.array([1, 2, 3, 4])\n",
        "z = np.array([10, 10, 20, 30])\n",
        "\n",
        "print(y ** 2)\n",
        "print(2*y + z)"
      ],
      "metadata": {
        "colab": {
          "base_uri": "https://localhost:8080/"
        },
        "id": "HO4eH7D6BkjU",
        "outputId": "f69a6bfc-07de-40ed-ac81-779b599cd7ee"
      },
      "execution_count": null,
      "outputs": [
        {
          "output_type": "stream",
          "name": "stdout",
          "text": [
            "[ 1  4  9 16]\n",
            "[12 14 26 38]\n"
          ]
        }
      ]
    },
    {
      "cell_type": "markdown",
      "source": [
        "# Pandas\n",
        "* A Python library\n",
        "* Used to analyze and manipulate data"
      ],
      "metadata": {
        "id": "Ra14o9NoMGfg"
      }
    },
    {
      "cell_type": "markdown",
      "source": [
        "# Data Analysis"
      ],
      "metadata": {
        "id": "drUWRZ-TTP3Z"
      }
    },
    {
      "cell_type": "code",
      "source": [
        "import pandas as pd"
      ],
      "metadata": {
        "id": "ZoKFnECfMRTa"
      },
      "execution_count": null,
      "outputs": []
    },
    {
      "cell_type": "code",
      "source": [
        "data = {\n",
        "  \"Name\": ['Arif', 'Nafis', 'Hasan'],\n",
        "  \"Age\": [35, 30, 40]\n",
        "}\n",
        "\n",
        "#load data into a DataFrame [Formated data; 2 Dimensional Data Structure]\n",
        "df = pd.DataFrame(data)\n",
        "\n",
        "print(df)\n"
      ],
      "metadata": {
        "id": "pRf-NhbpQI43"
      },
      "execution_count": null,
      "outputs": []
    },
    {
      "cell_type": "code",
      "source": [
        "#loc attribute - accessing the dataframe values\n",
        "print(df.loc[0])"
      ],
      "metadata": {
        "id": "h7LaM2WkQO5j"
      },
      "execution_count": null,
      "outputs": []
    },
    {
      "cell_type": "code",
      "source": [
        "#Read csv\n",
        "df = pd.read_csv('/content/lab1_data.csv')\n",
        "print (df)          #Show first 5 and last 5 entries"
      ],
      "metadata": {
        "id": "2z-_cHjHQPeu"
      },
      "execution_count": null,
      "outputs": []
    },
    {
      "cell_type": "code",
      "source": [
        "print (df.to_string())        #Show all entries"
      ],
      "metadata": {
        "id": "Ow2K6pr5R_pg"
      },
      "execution_count": null,
      "outputs": []
    },
    {
      "cell_type": "code",
      "source": [
        "#Analyzing data\n",
        "print(df.head(10))        #Show first N entries"
      ],
      "metadata": {
        "id": "jO9jmWFGQRBd"
      },
      "execution_count": null,
      "outputs": []
    },
    {
      "cell_type": "code",
      "source": [
        "print(df.tail())          #Show last 5 entries"
      ],
      "metadata": {
        "id": "5Eil_B5USTJj"
      },
      "execution_count": null,
      "outputs": []
    },
    {
      "cell_type": "code",
      "source": [
        "print(df.info())          #Information summary of all datas"
      ],
      "metadata": {
        "id": "C74DjF0AQSXb"
      },
      "execution_count": null,
      "outputs": []
    },
    {
      "cell_type": "code",
      "source": [
        "print(df.describe())        #More detailed information of all datas"
      ],
      "metadata": {
        "id": "MNVWV_FUSe3s"
      },
      "execution_count": null,
      "outputs": []
    },
    {
      "cell_type": "code",
      "source": [
        "#Information of a specific column\n",
        "print(df[\"Calories\"].mean())\n",
        "print(df[\"Calories\"].median())\n",
        "print(df[\"Calories\"].mode())"
      ],
      "metadata": {
        "id": "rQdYGveiQTw7"
      },
      "execution_count": null,
      "outputs": []
    },
    {
      "cell_type": "markdown",
      "source": [
        "#Data Cleaning"
      ],
      "metadata": {
        "id": "wRbuXv01QbPi"
      }
    },
    {
      "cell_type": "code",
      "source": [
        "#Drop rows with empty cells. Return a new Data Frame.\n",
        "new_df = df.dropna()\n",
        "print(new_df.to_string())"
      ],
      "metadata": {
        "id": "oDctIPaLQcHu"
      },
      "execution_count": null,
      "outputs": []
    },
    {
      "cell_type": "code",
      "source": [
        "#Replace NULL values with the mean value = 375\n",
        "df.fillna(375, inplace = True)        #Inplace - Changes saved in the same Dataframe\n",
        "print(df.to_string())"
      ],
      "metadata": {
        "id": "YPD1xdsPQdo5"
      },
      "execution_count": null,
      "outputs": []
    },
    {
      "cell_type": "code",
      "source": [
        "#Replace in a specific column\n",
        "df[\"Calories\"].fillna(375, inplace = True)"
      ],
      "metadata": {
        "id": "iQ58HScCUpKE"
      },
      "execution_count": null,
      "outputs": []
    },
    {
      "cell_type": "code",
      "source": [
        "#Update data\n",
        "df.loc[165, 'Duration'] = 45\n",
        "print(df.to_string())"
      ],
      "metadata": {
        "id": "cQdnfuyZQe8w"
      },
      "execution_count": null,
      "outputs": []
    },
    {
      "cell_type": "code",
      "source": [
        "#Duplicate data finding\n",
        "print(df.duplicated().to_string())      #False - Unique, True - Duplicate values"
      ],
      "metadata": {
        "id": "geCGTtZUQgYt"
      },
      "execution_count": null,
      "outputs": []
    },
    {
      "cell_type": "code",
      "source": [
        "#Drop duplicate data\n",
        "df.drop_duplicates(inplace = True)\n",
        "print(df.duplicated().to_string())"
      ],
      "metadata": {
        "id": "if4uZhuTQhrC"
      },
      "execution_count": null,
      "outputs": []
    },
    {
      "cell_type": "code",
      "source": [
        "#correlation\n",
        "df.corr()       # 0 - No relation, 1 - Strongly correlated, -1 - Strongly correlated but adversely"
      ],
      "metadata": {
        "id": "pV5pyVPIQjKv"
      },
      "execution_count": null,
      "outputs": []
    },
    {
      "cell_type": "markdown",
      "source": [
        "#Data Visualisation"
      ],
      "metadata": {
        "id": "tiaqzHNAYEYM"
      }
    },
    {
      "cell_type": "code",
      "source": [
        "#plot data\n",
        "df.plot()"
      ],
      "metadata": {
        "id": "SG2F2MAoQkUj"
      },
      "execution_count": null,
      "outputs": []
    },
    {
      "cell_type": "code",
      "source": [
        "#Customise to make it more understandable\n",
        "df.plot(kind = 'scatter', x = 'Duration', y = 'Calories')"
      ],
      "metadata": {
        "id": "oce3BUtwQlz6"
      },
      "execution_count": null,
      "outputs": []
    },
    {
      "cell_type": "code",
      "source": [
        "df.plot(kind = 'scatter', x = 'Duration', y = 'Maxpulse')"
      ],
      "metadata": {
        "id": "3_XC03GqXN0v"
      },
      "execution_count": null,
      "outputs": []
    },
    {
      "cell_type": "code",
      "source": [
        "df[\"Duration\"].plot(kind = 'hist')"
      ],
      "metadata": {
        "id": "D06dQ4QhQnaD"
      },
      "execution_count": null,
      "outputs": []
    }
  ]
}